{
 "cells": [
  {
   "cell_type": "code",
   "execution_count": null,
   "id": "e3ff8a25",
   "metadata": {},
   "outputs": [],
   "source": [
    "import xarray as xr, colorcet\n",
    "from colorcet import bmw, coolwarm\n",
    "\n",
    "from xpublish.routers import xyz_router, base_router\n",
    "from xpublish.utils.ows import validate_dataset"
   ]
  },
  {
   "cell_type": "code",
   "execution_count": null,
   "id": "18a93f76",
   "metadata": {},
   "outputs": [],
   "source": [
    "ds = xr.tutorial.open_dataset(\n",
    "    \"air_temperature\", chunks=dict(lat=5, lon=5),\n",
    ")\n",
    "ds"
   ]
  },
  {
   "cell_type": "markdown",
   "id": "b4034b22",
   "metadata": {},
   "source": [
    "XYZ router accepts only spatial dimensions that are named 'x' and  'y'"
   ]
  },
  {
   "cell_type": "code",
   "execution_count": null,
   "id": "0d0a23a4",
   "metadata": {},
   "outputs": [],
   "source": [
    "ds = ds.rename({\"lat\": \"y\", \"lon\": \"x\"})"
   ]
  },
  {
   "cell_type": "code",
   "execution_count": null,
   "id": "4594bfc7",
   "metadata": {},
   "outputs": [],
   "source": [
    "validate_dataset(ds)"
   ]
  },
  {
   "cell_type": "markdown",
   "id": "31482162",
   "metadata": {},
   "source": [
    "XYZ uses morecantile to tile the dataarray. Morecantile supports different grids, not only the Web Mercator which is the most common and it is used by Google Maps and OpenStreetMap.\n",
    "In this example the dataset needs to be reprojected to match the Web Mercator projection."
   ]
  },
  {
   "cell_type": "code",
   "execution_count": null,
   "id": "babd049e",
   "metadata": {},
   "outputs": [],
   "source": [
    "ds.rio.set_spatial_dims(x_dim=\"x\", y_dim=\"y\", inplace=True)\n",
    "ds.rio.write_crs(4326, inplace=True)\n",
    "\n",
    "ds = ds.rio.reproject(\n",
    "    # epsg: 3857\n",
    "    dst_crs= \"+proj=merc +a=6378137 +b=6378137 +lat_ts=0.0 +lon_0=0.0 +x_0=0.0 +y_0=0 +k=1.0 +units=m +nadgrids=@null +wktext  +no_defs\" \n",
    "    )"
   ]
  },
  {
   "cell_type": "markdown",
   "id": "6e5b0a3d",
   "metadata": {},
   "source": [
    "XYZ router accepts 2 map options to:\n",
    "- crs_epsg: set the correct grid tiling \n",
    "- color_mapping: produce custom images setting the datashader parameters or matplotlib parameters"
   ]
  },
  {
   "cell_type": "code",
   "execution_count": null,
   "id": "99a8bbb6",
   "metadata": {},
   "outputs": [],
   "source": [
    "crs_epsg =  3857\n",
    "\n",
    "color_mapping = {\n",
    "    \n",
    "    \"datashader_settings\":{\n",
    "            # parameters for datashader.Canvas.raster method\n",
    "            \"raster\": {\"upsample_method\": \"linear\"}, \n",
    "            # parameters for datashader.transfer_functions.shade\n",
    "            \"shade\": {  \"cmap\": colorcet.bmy,#[\"blue\",\"red\"], \n",
    "                        \"how\": \"linear\", \n",
    "                        \"span\": [float(ds[\"air\"].min()), float(ds[\"air\"].max())], \n",
    "                        \"alpha\": 200 }\n",
    "                        }, \n",
    "}\n",
    "\n",
    "xyz_router.set_options(crs_epsg, color_mapping=color_mapping)"
   ]
  },
  {
   "cell_type": "code",
   "execution_count": null,
   "id": "0e2de0f6",
   "metadata": {},
   "outputs": [],
   "source": [
    "ds.rest(routers=[xyz_router, base_router])"
   ]
  },
  {
   "cell_type": "code",
   "execution_count": null,
   "id": "f278ecc6",
   "metadata": {},
   "outputs": [],
   "source": [
    "import nest_asyncio \n",
    "nest_asyncio.apply()"
   ]
  },
  {
   "cell_type": "code",
   "execution_count": null,
   "id": "2d1638d8",
   "metadata": {},
   "outputs": [],
   "source": [
    "ds.rest.serve(port=9000,log_level='info')"
   ]
  },
  {
   "cell_type": "code",
   "execution_count": null,
   "id": "0bd5eaaa",
   "metadata": {},
   "outputs": [],
   "source": []
  },
  {
   "cell_type": "code",
   "execution_count": null,
   "id": "e6617860",
   "metadata": {},
   "outputs": [],
   "source": []
  },
  {
   "cell_type": "code",
   "execution_count": null,
   "id": "bcd9d240",
   "metadata": {},
   "outputs": [],
   "source": []
  },
  {
   "cell_type": "code",
   "execution_count": null,
   "id": "5735e747",
   "metadata": {},
   "outputs": [],
   "source": []
  },
  {
   "cell_type": "code",
   "execution_count": null,
   "id": "ec675f0e",
   "metadata": {},
   "outputs": [],
   "source": []
  },
  {
   "cell_type": "code",
   "execution_count": null,
   "id": "51e0de7f",
   "metadata": {},
   "outputs": [],
   "source": []
  }
 ],
 "metadata": {
  "kernelspec": {
   "display_name": "xpublish",
   "language": "python",
   "name": "xpublish"
  },
  "language_info": {
   "codemirror_mode": {
    "name": "ipython",
    "version": 3
   },
   "file_extension": ".py",
   "mimetype": "text/x-python",
   "name": "python",
   "nbconvert_exporter": "python",
   "pygments_lexer": "ipython3",
   "version": "3.8.10"
  }
 },
 "nbformat": 4,
 "nbformat_minor": 5
}
