{
 "cells": [
  {
   "cell_type": "code",
   "execution_count": null,
   "id": "f29eb1d8",
   "metadata": {},
   "outputs": [],
   "source": [
    "from traitlets import Unicode\n",
    "from ipyleaflet import Map, WMSLayer, basemaps\n",
    "from ipyleaflet import Map, LocalTileLayer\n",
    "from ipywidgets import Layout\n",
    "\n",
    "defaultLayout=Layout(width='960px', height='540px')\n",
    "\n",
    "\n",
    "class TimeWMTSLayer(LocalTileLayer):\n",
    "\n",
    "    time = Unicode('').tag(sync=True, o=True)\n",
    "\n",
    "\n",
    "    \n",
    "wmts = TimeWMTSLayer(path='http://127.0.0.1:9000/tiles/air/{time}/{z}/{x}/{y}')\n",
    "    \n",
    "    \n",
    "m = Map(basemap=basemaps.CartoDB.Positron, center=(39, -105.121558), zoom=2, layout=defaultLayout)\n",
    "\n",
    "m.add_layer(wmts)"
   ]
  },
  {
   "cell_type": "code",
   "execution_count": null,
   "id": "63c7b3ea",
   "metadata": {},
   "outputs": [],
   "source": [
    "from ipywidgets import SelectionSlider\n",
    "from pandas import date_range\n",
    "\n",
    "times = date_range(\"2013-01-01\",\"2013-12-31\",freq=\"24H\").strftime(\"%Y-%m-%dT%H:%M\")"
   ]
  },
  {
   "cell_type": "code",
   "execution_count": null,
   "id": "de7873d5",
   "metadata": {},
   "outputs": [],
   "source": [
    "slider = SelectionSlider(description='Time:', options=times)\n",
    "\n",
    "def update_wms(change):\n",
    "    wmts.time = '{}'.format(slider.value)\n",
    "    wmts.redraw()\n",
    "\n",
    "\n",
    "slider.observe(update_wms, 'value')\n",
    "slider"
   ]
  },
  {
   "cell_type": "code",
   "execution_count": null,
   "id": "0a0ccfa5",
   "metadata": {},
   "outputs": [],
   "source": [
    "m"
   ]
  },
  {
   "cell_type": "code",
   "execution_count": null,
   "id": "51c6f493",
   "metadata": {},
   "outputs": [],
   "source": []
  },
  {
   "cell_type": "code",
   "execution_count": null,
   "id": "39373134",
   "metadata": {},
   "outputs": [],
   "source": [
    "from ipyleaflet import Map, LocalTileLayer\n",
    "from ipywidgets import Layout\n",
    "defaultLayout=Layout(width='960px', height='540px')\n",
    "\n",
    "m = Map(center=(39, -105.121558), zoom=2, layout=defaultLayout)\n",
    "m.add_layer(LocalTileLayer(path='http://127.0.0.1:9000/tiles/air/{z}/{x}/{y}'))\n",
    "\n",
    "m"
   ]
  }
 ],
 "metadata": {
  "kernelspec": {
   "display_name": "xpublish",
   "language": "python",
   "name": "xpublish"
  },
  "language_info": {
   "codemirror_mode": {
    "name": "ipython",
    "version": 3
   },
   "file_extension": ".py",
   "mimetype": "text/x-python",
   "name": "python",
   "nbconvert_exporter": "python",
   "pygments_lexer": "ipython3",
   "version": "3.8.10"
  }
 },
 "nbformat": 4,
 "nbformat_minor": 5
}
