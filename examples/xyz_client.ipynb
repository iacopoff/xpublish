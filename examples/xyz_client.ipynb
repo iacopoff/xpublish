{
 "cells": [
  {
   "cell_type": "code",
   "execution_count": 1,
   "id": "2973db34",
   "metadata": {},
   "outputs": [
    {
     "data": {
      "application/vnd.jupyter.widget-view+json": {
       "model_id": "cff384389d88413ca716ab9a4c688a48",
       "version_major": 2,
       "version_minor": 0
      },
      "text/plain": [
       "Map(center=[39, -105.121558], controls=(ZoomControl(options=['position', 'zoom_in_text', 'zoom_in_title', 'zoo…"
      ]
     },
     "metadata": {},
     "output_type": "display_data"
    }
   ],
   "source": [
    "from ipyleaflet import Map, LocalTileLayer\n",
    "from ipywidgets import Layout\n",
    "defaultLayout=Layout(width='960px', height='540px')\n",
    "\n",
    "m = Map(center=(39, -105.121558), zoom=2, layout=defaultLayout)\n",
    "m.add_layer(LocalTileLayer(path='http://127.0.0.1:9000/tiles/air/{z}/{x}/{y}'))\n",
    "\n",
    "m"
   ]
  },
  {
   "cell_type": "code",
   "execution_count": 9,
   "id": "1263963c",
   "metadata": {},
   "outputs": [],
   "source": [
    "from traitlets import Unicode\n",
    "from ipyleaflet import Map, WMSLayer, basemaps\n",
    "from ipyleaflet import Map, LocalTileLayer\n",
    "from ipywidgets import Layout\n",
    "\n",
    "defaultLayout=Layout(width='960px', height='540px')\n",
    "\n",
    "\n",
    "class TimeWMTSLayer(LocalTileLayer):\n",
    "\n",
    "    time = Unicode('').tag(sync=True, o=True)\n",
    "\n",
    "\n",
    "    \n",
    "wmts = TimeWMTSLayer(path='http://127.0.0.1:9000/tiles/air/{time}/{z}/{x}/{y}')\n",
    "    \n",
    "    \n",
    "m = Map(basemap=basemaps.CartoDB.Positron, center=(39, -105.121558), zoom=2, layout=defaultLayout)\n",
    "\n",
    "m.add_layer(wmts)"
   ]
  },
  {
   "cell_type": "code",
   "execution_count": 10,
   "id": "97c5c75e",
   "metadata": {},
   "outputs": [],
   "source": [
    "from ipywidgets import SelectionSlider\n",
    "from pandas import date_range\n",
    "\n",
    "times = date_range(\"2013-01-01\",\"2013-12-31\",freq=\"24H\").strftime(\"%Y-%m-%dT%H:%M\")"
   ]
  },
  {
   "cell_type": "code",
   "execution_count": 11,
   "id": "a4572960",
   "metadata": {},
   "outputs": [
    {
     "data": {
      "application/vnd.jupyter.widget-view+json": {
       "model_id": "ee8df3782f40479eb5db729e3ae695e6",
       "version_major": 2,
       "version_minor": 0
      },
      "text/plain": [
       "SelectionSlider(description='Time:', options=('2013-01-01T00:00', '2013-01-02T00:00', '2013-01-03T00:00', '201…"
      ]
     },
     "metadata": {},
     "output_type": "display_data"
    }
   ],
   "source": [
    "slider = SelectionSlider(description='Time:', options=times)\n",
    "\n",
    "def update_wms(change):\n",
    "    wmts.time = '{}'.format(slider.value)\n",
    "    wmts.redraw()\n",
    "\n",
    "\n",
    "slider.observe(update_wms, 'value')\n",
    "slider"
   ]
  },
  {
   "cell_type": "code",
   "execution_count": 12,
   "id": "79f0abc1",
   "metadata": {},
   "outputs": [
    {
     "data": {
      "application/vnd.jupyter.widget-view+json": {
       "model_id": "6cc12719d62b4d159c04ae5e36e96b69",
       "version_major": 2,
       "version_minor": 0
      },
      "text/plain": [
       "Map(center=[39, -105.121558], controls=(ZoomControl(options=['position', 'zoom_in_text', 'zoom_in_title', 'zoo…"
      ]
     },
     "metadata": {},
     "output_type": "display_data"
    }
   ],
   "source": [
    "m"
   ]
  },
  {
   "cell_type": "code",
   "execution_count": null,
   "id": "071bf7ac",
   "metadata": {},
   "outputs": [],
   "source": []
  },
  {
   "cell_type": "code",
   "execution_count": null,
   "id": "af4744a3",
   "metadata": {},
   "outputs": [],
   "source": []
  }
 ],
 "metadata": {
  "kernelspec": {
   "display_name": "xpublish",
   "language": "python",
   "name": "xpublish"
  },
  "language_info": {
   "codemirror_mode": {
    "name": "ipython",
    "version": 3
   },
   "file_extension": ".py",
   "mimetype": "text/x-python",
   "name": "python",
   "nbconvert_exporter": "python",
   "pygments_lexer": "ipython3",
   "version": "3.8.10"
  }
 },
 "nbformat": 4,
 "nbformat_minor": 5
}
